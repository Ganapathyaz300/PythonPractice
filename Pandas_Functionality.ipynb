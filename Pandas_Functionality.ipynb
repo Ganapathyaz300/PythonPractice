{
 "cells": [
  {
   "cell_type": "code",
   "execution_count": 1,
   "metadata": {},
   "outputs": [
    {
     "name": "stdout",
     "output_type": "stream",
     "text": [
      "0   -1.663851\n",
      "1   -1.345894\n",
      "2    0.438630\n",
      "3    0.314168\n",
      "4   -0.412494\n",
      "dtype: float64\n"
     ]
    }
   ],
   "source": [
    "import pandas as pd\n",
    "import numpy as np\n",
    "\n",
    "s =pd.Series(np.random.randn(5))\n",
    "\n",
    "print(s)"
   ]
  },
  {
   "cell_type": "code",
   "execution_count": 4,
   "metadata": {},
   "outputs": [
    {
     "name": "stdout",
     "output_type": "stream",
     "text": [
      "the axes are:\n",
      "[RangeIndex(start=0, stop=20, step=1)]\n"
     ]
    }
   ],
   "source": [
    "#Axes\n",
    "\n",
    "import pandas as pd\n",
    "import numpy as np\n",
    "\n",
    "s=pd.Series(np.random.randn(20))\n",
    "\n",
    "print(\"the axes are:\")\n",
    "\n",
    "print(s.axes)"
   ]
  },
  {
   "cell_type": "code",
   "execution_count": 6,
   "metadata": {},
   "outputs": [
    {
     "name": "stdout",
     "output_type": "stream",
     "text": [
      "is the object empty\n",
      "False\n"
     ]
    }
   ],
   "source": [
    "#Empty\n",
    "\n",
    "import pandas as pd\n",
    "import numpy as np\n",
    "\n",
    "s=pd.Series(np.random.randn(20))\n",
    "\n",
    "print(\"is the object empty\")\n",
    "\n",
    "print(s.empty)"
   ]
  },
  {
   "cell_type": "code",
   "execution_count": 10,
   "metadata": {},
   "outputs": [
    {
     "name": "stdout",
     "output_type": "stream",
     "text": [
      "0    0.371854\n",
      "1    0.118809\n",
      "2    1.100684\n",
      "3    1.067103\n",
      "dtype: float64\n",
      "The dimentions of the object\n",
      "1\n",
      "size of the object\n",
      "4\n"
     ]
    }
   ],
   "source": [
    "import pandas as pd\n",
    "import numpy as np\n",
    "\n",
    "s=pd.Series(np.random.randn(4))\n",
    "\n",
    "print(s)\n",
    "\n",
    "print(\"The dimentions of the object\")\n",
    "\n",
    "print(s.ndim)\n",
    "\n",
    "print(\"size of the object\")\n",
    "\n",
    "print(s.size)"
   ]
  },
  {
   "cell_type": "code",
   "execution_count": 11,
   "metadata": {},
   "outputs": [
    {
     "name": "stdout",
     "output_type": "stream",
     "text": [
      "The Actual data series are\n",
      "[ 0.08821616  0.67106034  0.31154361 -0.62343729 -1.53068642 -0.95421361\n",
      " -0.5907342   0.95189715 -0.34278122 -1.16722596  1.27880505 -1.42274978]\n"
     ]
    }
   ],
   "source": [
    "#values\n",
    "\n",
    "import pandas as pd\n",
    "import numpy as np\n",
    "\n",
    "s=pd.Series(np.random.randn(12))\n",
    "\n",
    "print(\"The Actual data series are\")\n",
    "\n",
    "print(s.values)"
   ]
  },
  {
   "cell_type": "code",
   "execution_count": 2,
   "metadata": {},
   "outputs": [
    {
     "name": "stdout",
     "output_type": "stream",
     "text": [
      "0    -0.473694\n",
      "1     0.500459\n",
      "2     1.722461\n",
      "3     1.363042\n",
      "4    -0.022458\n",
      "5    -0.891457\n",
      "6     2.721743\n",
      "7     0.321688\n",
      "8    -1.101455\n",
      "9     1.035568\n",
      "10    0.566188\n",
      "11    0.781203\n",
      "12   -1.345358\n",
      "13   -0.737998\n",
      "14    0.446008\n",
      "15    1.608124\n",
      "16    0.542490\n",
      "17   -0.286369\n",
      "18   -1.283327\n",
      "19    0.767718\n",
      "20   -0.397967\n",
      "21   -0.342433\n",
      "22    1.307854\n",
      "23    0.216737\n",
      "24    0.415457\n",
      "25   -0.239687\n",
      "26    0.267489\n",
      "27   -0.738158\n",
      "28   -0.865158\n",
      "29   -0.822416\n",
      "30   -1.691408\n",
      "31   -0.407090\n",
      "32    1.298958\n",
      "33   -0.106430\n",
      "34    0.056687\n",
      "35    0.542663\n",
      "36   -2.009740\n",
      "37   -0.234005\n",
      "38   -1.127505\n",
      "39   -1.423551\n",
      "40    0.725563\n",
      "41    0.418547\n",
      "42   -1.333702\n",
      "43   -0.005371\n",
      "44    0.270427\n",
      "45   -1.641553\n",
      "46   -0.677089\n",
      "47    1.003646\n",
      "48    1.475772\n",
      "49   -0.662079\n",
      "dtype: float64\n",
      "the first three rows of the data series\n",
      "0   -0.473694\n",
      "1    0.500459\n",
      "2    1.722461\n",
      "dtype: float64\n",
      "the last three rows of the data series\n",
      "47    1.003646\n",
      "48    1.475772\n",
      "49   -0.662079\n",
      "dtype: float64\n"
     ]
    }
   ],
   "source": [
    "#Head and Tail\n",
    "\n",
    "import pandas as pd\n",
    "import numpy as np\n",
    "\n",
    "s=pd.Series(np.random.randn(50))\n",
    "\n",
    "print(s)\n",
    "\n",
    "print(\"the first three rows of the data series\")\n",
    "\n",
    "print(s.head(3))\n",
    "      \n",
    "print(\"the last three rows of the data series\")\n",
    "\n",
    "print(s.tail(3))\n",
    "\n"
   ]
  },
  {
   "cell_type": "code",
   "execution_count": null,
   "metadata": {},
   "outputs": [],
   "source": []
  }
 ],
 "metadata": {
  "kernelspec": {
   "display_name": "Python 3",
   "language": "python",
   "name": "python3"
  },
  "language_info": {
   "codemirror_mode": {
    "name": "ipython",
    "version": 3
   },
   "file_extension": ".py",
   "mimetype": "text/x-python",
   "name": "python",
   "nbconvert_exporter": "python",
   "pygments_lexer": "ipython3",
   "version": "3.7.3"
  }
 },
 "nbformat": 4,
 "nbformat_minor": 2
}
